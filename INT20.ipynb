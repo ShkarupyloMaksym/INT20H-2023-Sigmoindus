{
 "cells": [
  {
   "cell_type": "markdown",
   "source": [
    "# **Блокнот до хакатону INT20H**"
   ],
   "attachments": {},
   "metadata": {
    "datalore": {
     "node_id": "b4HD9G9xVQJ9ioaVh6R3Sl",
     "type": "MD",
     "hide_input_from_viewers": true,
     "hide_output_from_viewers": true
    }
   }
  },
  {
   "cell_type": "markdown",
   "source": [
    "### Імпорт бібліотек"
   ],
   "attachments": {},
   "metadata": {
    "datalore": {
     "node_id": "II12DVnNJ8pFDH16LzajvI",
     "type": "MD",
     "hide_input_from_viewers": true,
     "hide_output_from_viewers": true
    }
   }
  },
  {
   "cell_type": "code",
   "source": [
    "import pandas as pd\n",
    "import numpy as np\n",
    "import json\n",
    "import matplotlib.pyplot as plt\n",
    "from IPython.core import display as ICD"
   ],
   "execution_count": 40,
   "outputs": [],
   "metadata": {
    "datalore": {
     "node_id": "zNgQwXSafKMcDfpkYPfZRZ",
     "type": "CODE",
     "hide_input_from_viewers": true,
     "hide_output_from_viewers": true
    }
   }
  },
  {
   "cell_type": "markdown",
   "source": [
    "### Завантаження даних"
   ],
   "attachments": {},
   "metadata": {
    "datalore": {
     "node_id": "QjqyyR0FOUQyUW0ojTxjHV",
     "type": "MD",
     "hide_input_from_viewers": true,
     "hide_output_from_viewers": true
    }
   }
  },
  {
   "cell_type": "code",
   "source": [
    "data = pd.read_csv(\"int20h-ds-test-dataset.csv\")"
   ],
   "execution_count": 41,
   "outputs": [],
   "metadata": {
    "datalore": {
     "node_id": "TwxL4Y4mK8p8Id1BlM8XE3",
     "type": "CODE",
     "hide_input_from_viewers": true,
     "hide_output_from_viewers": true
    }
   }
  },
  {
   "cell_type": "markdown",
   "source": [
    "### Функція попередньої обробки даних:\n",
    "* #### Прибирання дублікатів\n",
    "* #### Приведення дат до одного формату\n",
    "+ #### Об'єднанння подій та атрибутів з майже однаковими назвами та однаковим сенсом."
   ],
   "attachments": {},
   "metadata": {
    "datalore": {
     "node_id": "LU5rTJr22h8LjU2AdChxvd",
     "type": "MD",
     "hide_input_from_viewers": true,
     "hide_output_from_viewers": true
    }
   }
  },
  {
   "cell_type": "code",
   "source": [
    "def replace_dict(attr, replacing):\n",
    "    for now, rep in replacing.items():\n",
    "        attr = attr.replace(now, rep)\n",
    "    return attr\n",
    "\n",
    "def data_preprocessing(data):\n",
    "  data.drop_duplicates(inplace=True)\n",
    "  data['event_created_date'] = pd.to_datetime(data['event_created_date'], infer_datetime_format=True)\n",
    "  replace_attr = {'Rental state':'Rental State',\n",
    "                    'Transaction type':'Transaction Type',\n",
    "                    'account_history':'Account History',\n",
    "                    'Phone number':'Phone Number',\n",
    "                    'Address details':'Address Details'}   \n",
    "  data['event_attributes'] = data['event_attributes'].map(lambda x: replace_dict(x, replace_attr))\n",
    "  replace_event_name = {'Account Setup Profile Skip':'Account Setup Skip', \n",
    "                        'Chat Conversation Started':'Chat Conversation Opened', \n",
    "                        'Add Vehicle Failed':'Add Vehicle Break', \n",
    "                        'Subscription Premium Renew':'Subscription Premium'}\n",
    "  data['event_name'] = data['event_name'].replace(replace_event_name)\n",
    "    \n",
    "data_preprocessing(data)"
   ],
   "execution_count": 42,
   "outputs": [],
   "metadata": {
    "datalore": {
     "node_id": "30LXLmtiy3Z76miTqYTdvk",
     "type": "CODE",
     "hide_input_from_viewers": true,
     "hide_output_from_viewers": true
    }
   }
  },
  {
   "cell_type": "code",
   "source": [
    "data[['event_attributes']]"
   ],
   "execution_count": 43,
   "outputs": [
    {
     "data": {
      "text/html": [
       "<div>\n",
       "<style scoped>\n",
       "    .dataframe tbody tr th:only-of-type {\n",
       "        vertical-align: middle;\n",
       "    }\n",
       "\n",
       "    .dataframe tbody tr th {\n",
       "        vertical-align: top;\n",
       "    }\n",
       "\n",
       "    .dataframe thead th {\n",
       "        text-align: right;\n",
       "    }\n",
       "</style>\n",
       "<table border=\"1\" class=\"dataframe\">\n",
       "  <thead>\n",
       "    <tr style=\"text-align: right;\">\n",
       "      <th></th>\n",
       "      <th>event_attributes</th>\n",
       "    </tr>\n",
       "  </thead>\n",
       "  <tbody>\n",
       "    <tr>\n",
       "      <th>0</th>\n",
       "      <td>{\"Make\":\"Dodge\",\"Model\":\"Caravan\",\"Color\":\"Whi...</td>\n",
       "    </tr>\n",
       "    <tr>\n",
       "      <th>1</th>\n",
       "      <td>{}</td>\n",
       "    </tr>\n",
       "    <tr>\n",
       "      <th>2</th>\n",
       "      <td>{}</td>\n",
       "    </tr>\n",
       "    <tr>\n",
       "      <th>3</th>\n",
       "      <td>{\"Payment Method\":\"Credit\",\"Tokenized Pay\":\"\"}</td>\n",
       "    </tr>\n",
       "    <tr>\n",
       "      <th>4</th>\n",
       "      <td>{\"Method\":\"Apple\"}</td>\n",
       "    </tr>\n",
       "    <tr>\n",
       "      <th>...</th>\n",
       "      <td>...</td>\n",
       "    </tr>\n",
       "    <tr>\n",
       "      <th>23352</th>\n",
       "      <td>{\"Payment Method\":\"Credit\",\"Tokenized Pay\":\"\",...</td>\n",
       "    </tr>\n",
       "    <tr>\n",
       "      <th>23353</th>\n",
       "      <td>{\"Screen\":\"Address\"}</td>\n",
       "    </tr>\n",
       "    <tr>\n",
       "      <th>23354</th>\n",
       "      <td>{\"Screen\":\"Phone Number\"}</td>\n",
       "    </tr>\n",
       "    <tr>\n",
       "      <th>23355</th>\n",
       "      <td>{\"From\":\"Dashboard\",\"Transaction Type\":\"\"}</td>\n",
       "    </tr>\n",
       "    <tr>\n",
       "      <th>23356</th>\n",
       "      <td>{\"Start Date\":\"2022-04-16\",\"Renewal Date\":\"202...</td>\n",
       "    </tr>\n",
       "  </tbody>\n",
       "</table>\n",
       "<p>22039 rows × 1 columns</p>\n",
       "</div>"
      ]
     },
     "metadata": {},
     "output_type": "display_data"
    }
   ],
   "metadata": {
    "datalore": {
     "node_id": "a4glb7CPgkvTf5jk1OsSZU",
     "type": "CODE",
     "hide_input_from_viewers": true,
     "hide_output_from_viewers": true
    }
   }
  },
  {
   "cell_type": "markdown",
   "source": [
    "*Із самого початку функція вибору останніх дій клієнта обирала n останніх дій, але нас більше цікавить не дія, яка була зроблена 2 тижні тому (наприклад, людина не користувалася додатком два тижні, а потім зайшла і відмінила підписку), а ді, які були зроблені протягом декількох годин до її відміни.*"
   ],
   "attachments": {},
   "metadata": {
    "datalore": {
     "node_id": "styNphWNUWAkglN0FDsHAt",
     "type": "MD",
     "hide_input_from_viewers": true,
     "hide_output_from_viewers": true
    }
   }
  },
  {
   "cell_type": "markdown",
   "source": [
    "### Функції для отримання даних клієнта за заданий час до відміни підписки або покупки підписки відповідно.\n",
    "\n",
    "До функцій передається датафрейм з даними my_df, набір даних обраного користувача х, кількість годин hour та назва обраної  колонки таблиці col.\n",
    "\n",
    "Обираються всі унікальні значення колонки, з них обираються ті, що знаходяться між покупкою та відміною (для другої функції - між покупкою та попередньою відміною, якщо така існує). З них обирються дані, що були зроблені в заданий час до відміни/покупки."
   ],
   "attachments": {},
   "metadata": {
    "datalore": {
     "node_id": "tLKEpFgIhI42n5QQraCy20",
     "type": "MD",
     "hide_input_from_viewers": true,
     "hide_output_from_viewers": true
    }
   }
  },
  {
   "cell_type": "code",
   "source": [
    "all_event_names = data[\"event_name\"].unique()"
   ],
   "execution_count": 44,
   "outputs": [],
   "metadata": {
    "datalore": {
     "node_id": "BEi1WlQ4jiZqL0Ss9k98Wa",
     "type": "CODE",
     "hide_input_from_viewers": true,
     "hide_output_from_viewers": true
    }
   }
  },
  {
   "cell_type": "code",
   "source": [
    "def get_order_time_df_col(my_df, x, hour, col):\n",
    "    all_unique_values = my_df[col].unique()\n",
    "    index_buy = x[x == 'Subscription Premium'].index\n",
    "    index_cancel = x[x == 'Subscription Premium Cancel'].index\n",
    "    if not index_buy.shape[0]:\n",
    "        index_buy = np.array([x.index[0]])\n",
    "\n",
    "    incorrect_order = np.array([np.all(index_buy < i) for i in index_cancel])\n",
    "    if np.any(incorrect_order):\n",
    "        index_cancel = index_cancel[:incorrect_order.argmax()+1]\n",
    "\n",
    "    df_user = my_df.loc[x.index]\n",
    "    delta = [(df_user.loc[i, 'event_created_date'] - df_user.loc[index_buy[index_buy < i][-1]:i, 'event_created_date'][1:-1]) / pd.Timedelta('1 hour') < hour for i in index_cancel]\n",
    "    main_dicti = []\n",
    "    for i, idx in enumerate(index_cancel):\n",
    "        dicti = dict(zip(all_unique_values, [0 for _ in range(len(all_unique_values))]))\n",
    "        for event in df_user[col].loc[index_buy[index_buy < idx][-1]:idx][1:-1][delta[i]]:\n",
    "            dicti[event] = 1\n",
    "        main_dicti += [dicti]   \n",
    "        \n",
    "    return pd.DataFrame(main_dicti, index=[i for i in range(len(main_dicti))])\n",
    "\n",
    "\n",
    "def get_before_subscription_buy_order_time_df_col(my_df, x, hour, col):\n",
    "    all_unique_values = my_df[col].unique()\n",
    "    index_buy = x[x == 'Subscription Premium'].index\n",
    "    index_cancel = x[x == 'Subscription Premium Cancel'].index\n",
    "\n",
    "    if index_buy[0] == x.index[0]:\n",
    "        index_buy = index_buy[1:]\n",
    "        if not index_buy.shape[0]:\n",
    "            return pd.DataFrame(dict(zip(all_unique_values, [0 for _ in range(len(all_unique_values))])), index=[0])\n",
    "\n",
    "    incorrect_order = np.array([np.all(index_cancel < i) for i in index_buy])\n",
    "    if np.any(incorrect_order):\n",
    "        index_cancel = index_cancel[:incorrect_order.argmax()+1]\n",
    "        \n",
    "    if not index_cancel.shape[0] or index_cancel[0] > index_buy[0]:\n",
    "        index_cancel = np.append([x.index[0]], index_cancel)\n",
    "\n",
    "    if index_cancel[-1]>index_buy[-1]:\n",
    "        index_cancel = index_cancel[:-1]\n",
    "    \n",
    "    df_user = my_df.loc[x.index]\n",
    "    delta = [(df_user.loc[i, 'event_created_date'] - df_user.loc[index_cancel[index_cancel < i][-1]:i, 'event_created_date'][:-1]) / pd.Timedelta('1 hour') <= hour for i in index_buy]\n",
    "    \n",
    "    main_dicti = []\n",
    "    for i, idx in enumerate(index_buy):\n",
    "        dicti = dict(zip(all_unique_values, [0 for _ in range(len(all_unique_values))]))\n",
    "        for event in df_user[col].loc[index_cancel[index_cancel < idx][-1]:idx][:-1][delta[i]]:\n",
    "            dicti[event] = 1\n",
    "        main_dicti += [dicti]\n",
    "    return pd.DataFrame(main_dicti, index=[i for i in range(len(main_dicti))])"
   ],
   "execution_count": 45,
   "outputs": [],
   "metadata": {
    "datalore": {
     "node_id": "6cezhJnKOBxF3I4rk3kLlA",
     "type": "CODE",
     "hide_input_from_viewers": true,
     "hide_output_from_viewers": true
    }
   }
  },
  {
   "cell_type": "markdown",
   "source": [
    "### Функція, призначена для отримання атрибутів заданої події та списків їх унікальних значень."
   ],
   "attachments": {},
   "metadata": {
    "datalore": {
     "node_id": "JOt4AG4cledxmm8hFEDbwi",
     "type": "MD",
     "hide_input_from_viewers": true,
     "hide_output_from_viewers": true
    }
   }
  },
  {
   "cell_type": "code",
   "source": [
    "def get_event_attributes_dict(my_df, event_name):\n",
    "    selected_data=my_df[my_df.event_name==event_name]\n",
    "    selected_dicts=[json.loads(e) for e in selected_data.event_attributes]\n",
    "    keyset=set(key for d in selected_dicts for key in d.keys())\n",
    "    result={key:list(set(dicti[key] if key in dicti else np.nan for dicti in selected_dicts)) for key in keyset}\n",
    "    return result"
   ],
   "execution_count": 46,
   "outputs": [],
   "metadata": {
    "datalore": {
     "node_id": "6JKT1AqBBeXpWRFlQvB26Y",
     "type": "CODE",
     "hide_input_from_viewers": true,
     "hide_output_from_viewers": true
    }
   }
  },
  {
   "cell_type": "markdown",
   "source": [
    "### Функції отримання атрибутів подій користувача, зроблених за певний час до відміни підписки, чи до покупки підписки відповідно.\n",
    "\n",
    "До функцій передається датафрейм з даними my_df, набір даних обраного користувача х, кількість годин hour та назва обраної  події event_name.\n",
    "\n",
    "Обираються всі унікальні значення атрибутів, з них обираються ті, що знаходяться між відміною та покупкою (для другої функції - між покупкою та попередньою відміною, якщо така існує). З них обирються дані, що були зроблені в заданий час до відміни/покупки."
   ],
   "attachments": {},
   "metadata": {
    "datalore": {
     "node_id": "jHA8lNj6wq1GYYfQIB6frH",
     "type": "MD",
     "hide_input_from_viewers": true,
     "hide_output_from_viewers": true
    }
   }
  },
  {
   "cell_type": "code",
   "source": [
    "def get_order_attributes_time_df(my_df, x, hour, event_name):\n",
    "    event_attributes_dict = get_event_attributes_dict(my_df, event_name)\n",
    "    values_unpacked = set(j for i in event_attributes_dict.values() for j in i)\n",
    "    index_buy = x[x == 'Subscription Premium'].index\n",
    "    index_cancel = x[x == 'Subscription Premium Cancel'].index\n",
    "    if not index_buy.shape[0]:\n",
    "        index_buy = np.array([x.index[0]])\n",
    "\n",
    "    incorrect_order = np.array([np.all(index_buy < i) for i in index_cancel])\n",
    "    if np.any(incorrect_order):\n",
    "        index_cancel = index_cancel[:incorrect_order.argmax()+1]\n",
    "\n",
    "    df_user = my_df.loc[x.index]\n",
    "    delta = [(df_user.loc[i, 'event_created_date'] - df_user.loc[index_buy[index_buy < i][-1]:i, 'event_created_date'][1:-1]) / pd.Timedelta('1 hour') < hour for i in index_cancel]\n",
    "    main_dicti = []\n",
    "    for i, idx in enumerate(index_cancel):        \n",
    "        events_names = x.loc[index_buy[index_buy < idx][-1]:idx][1:-1][delta[i]]\n",
    "        indexes = events_names.index\n",
    "        for event, index in zip(events_names, indexes):\n",
    "            if event_name==event:\n",
    "                dicti = dict(zip(values_unpacked, [0 for _ in values_unpacked]))\n",
    "                atributes_dicti = json.loads(my_df.loc[index, 'event_attributes'])\n",
    "                for q in atributes_dicti:\n",
    "                    dicti[atributes_dicti[q]]=1\n",
    "                main_dicti += [dicti]   \n",
    "    return pd.DataFrame(main_dicti, index=[i for i in range(len(main_dicti))])\n",
    "\n",
    "def get_before_subscription_buy_order_attributes_time_df(my_df, x, hour, event_name):\n",
    "    event_attributes_dict = get_event_attributes_dict(my_df, event_name)\n",
    "    values_unpacked = set(j for i in event_attributes_dict.values() for j in i)\n",
    "\n",
    "    index_buy = x[x == 'Subscription Premium'].index\n",
    "    index_cancel = x[x == 'Subscription Premium Cancel'].index\n",
    "    dicti = dict(zip(values_unpacked, [0 for _ in range(len(all_event_names))]))\n",
    "\n",
    "    if index_buy[0] == x.index[0]:\n",
    "        index_buy = index_buy[1:]\n",
    "        if not index_buy.shape[0]:\n",
    "            return pd.DataFrame(dicti, index=[0])\n",
    "\n",
    "    arr = np.array([np.all(index_cancel < i) for i in index_buy])\n",
    "    if np.any(arr):\n",
    "        index_cancel = index_cancel[:arr.argmax()+1]\n",
    "        \n",
    "    if not index_cancel.shape[0] or index_cancel[0] > index_buy[0]:\n",
    "        index_cancel = np.append([x.index[0]], index_cancel)\n",
    "\n",
    "    if index_cancel[-1]>index_buy[-1]:\n",
    "        index_cancel = index_cancel[:-1]\n",
    "    \n",
    "    df_user = my_df.loc[x.index]\n",
    "    delta = [(df_user.loc[i, 'event_created_date'] - df_user.loc[index_cancel[index_cancel < i][-1]:i, 'event_created_date'][:-1]) / pd.Timedelta('1 hour') <= hour for i in index_buy]\n",
    "    \n",
    "    main_dicti = []\n",
    "    for i, idx in enumerate(index_buy):\n",
    "        events_names = x.loc[index_cancel[index_cancel < idx][-1]:idx][:-1][delta[i]]\n",
    "        indexes = events_names.index\n",
    "        for event, index in zip(events_names, indexes):\n",
    "            if event_name == event:\n",
    "                dicti = dict(zip(values_unpacked, [0 for _ in values_unpacked]))\n",
    "                atributes_dicti = json.loads(my_df.loc[index, 'event_attributes'])\n",
    "                for q in atributes_dicti:\n",
    "                    dicti[atributes_dicti[q]]=1\n",
    "                main_dicti += [dicti]\n",
    "\n",
    "    return pd.DataFrame(main_dicti, index=[i for i in range(len(main_dicti))])"
   ],
   "execution_count": 47,
   "outputs": [],
   "metadata": {
    "datalore": {
     "node_id": "qMSqyRr5ofSc3wYpH57BEe",
     "type": "CODE",
     "hide_input_from_viewers": true,
     "hide_output_from_viewers": true
    }
   }
  },
  {
   "cell_type": "markdown",
   "source": [
    "### Отримання кількості тих чи інших атрибутів event користувачів за певний час до відміни підписки.\n",
    "Функція приймає такі атрибути, як event_name - назву оброблюваної події, my_df - набір даних, з якого беремо інформацію, hour - кількість годин, за які обираємо дані, with_corr - чи треба повертати кореляцію."
   ],
   "attachments": {},
   "metadata": {
    "datalore": {
     "node_id": "1We8Bkh9P1Y0ZdW5T1vpsn",
     "type": "MD",
     "hide_input_from_viewers": true,
     "hide_output_from_viewers": true
    }
   }
  },
  {
   "cell_type": "code",
   "source": [
    "def get_attributes_dataframe(event_name, my_df=data, hour=2, with_corr=True):\n",
    "    attributes_df = my_df.copy()\n",
    "    attributes_users_cancel = attributes_df[attributes_df['userid'].isin(attributes_df.loc[attributes_df['event_name'].isin(['Subscription Premium Cancel']), 'userid'])].sort_values(['event_created_date'])\n",
    "    attributes_events_cancel = attributes_users_cancel.groupby('userid')['event_name'].apply(lambda x: get_order_attributes_time_df(attributes_df, x, hour, event_name))\n",
    "    attributes_events_cancel = attributes_events_cancel.reset_index(level=[0,1]).drop('level_1', axis=1)\n",
    "    attributes_events_cancel['Subscription Premium Cancel'] = 1\n",
    "    attributes_events_cancel['Subscription Premium'] = 0\n",
    "\n",
    "    attributes_users_buy = attributes_df[attributes_df['userid'].isin(attributes_df.loc[attributes_df['event_name'].isin(['Subscription Premium']), 'userid'])].sort_values(['event_created_date'])\n",
    "    attributes_events_buy = attributes_users_buy.groupby('userid')['event_name'].apply(lambda x: get_before_subscription_buy_order_attributes_time_df(attributes_df, x, 2, event_name))\n",
    "    attributes_events_buy = attributes_events_buy.reset_index(level=[0,1]).drop('level_1', axis=1)\n",
    "    attributes_events_buy['Subscription Premium'] = 1\n",
    "    attributes_events_buy['Subscription Premium Cancel'] = 0\n",
    "\n",
    "    attributes_all_events = pd.concat([attributes_events_cancel,attributes_events_buy], ignore_index=True)\n",
    "    if with_corr:\n",
    "        return np.round(attributes_all_events.corr()[['Subscription Premium Cancel']].sort_values('Subscription Premium Cancel'), 3)\n",
    "    return attributes_all_events"
   ],
   "execution_count": 48,
   "outputs": [],
   "metadata": {
    "datalore": {
     "node_id": "b5AW80ji3HR0g8mp5Hwz51",
     "type": "CODE",
     "hide_input_from_viewers": true,
     "hide_output_from_viewers": true
    }
   }
  },
  {
   "cell_type": "markdown",
   "source": [
    "### Отримання кількості тих чи інших дій, зроблених користувачем за певний час до відміни підписки.\n",
    "Функція приймає такі аргументияк column_name - назва досліджуваної колонки, my_df - набір даних, з якого вибираємо інформацію, hour - кількість годин, за які вибираємо доні, with_corr - чи треба повертати кореляцію. "
   ],
   "attachments": {},
   "metadata": {
    "datalore": {
     "node_id": "y9qG0QhpjMWYiLVuFi3cUX",
     "type": "MD",
     "hide_input_from_viewers": true,
     "hide_output_from_viewers": true
    }
   }
  },
  {
   "cell_type": "code",
   "source": [
    "def get_events_dataframe(column_name='event_name', my_df=data, hour=2, with_corr=True):\n",
    "    df = my_df.copy()\n",
    "    users_cancel = df[df['userid'].isin(df.loc[df['event_name'].isin(['Subscription Premium Cancel']), 'userid'])].sort_values(['event_created_date'])\n",
    "    events_cancel = users_cancel.groupby('userid')['event_name'].apply(lambda x: get_order_time_df_col(df, x, hour, column_name))\n",
    "    events_cancel = events_cancel.reset_index(level=[0,1]).drop('level_1', axis=1)\n",
    "    events_cancel['Subscription Premium Cancel'] = 1\n",
    "    events_cancel['Subscription Premium'] = 0\n",
    "\n",
    "    users_buy = df[df['userid'].isin(df.loc[df['event_name'].isin(['Subscription Premium']), 'userid'])].sort_values(['event_created_date'])\n",
    "    events_buy = users_buy.groupby('userid')['event_name'].apply(lambda x: get_before_subscription_buy_order_time_df_col(df, x, hour, column_name))\n",
    "    events_buy = events_buy.reset_index(level=[0,1]).drop('level_1', axis=1)\n",
    "    events_buy['Subscription Premium'] = 1\n",
    "    events_buy['Subscription Premium Cancel'] = 0\n",
    "\n",
    "    all_events = pd.concat([events_cancel,events_buy], ignore_index=True)\n",
    "    if with_corr:\n",
    "        return np.round(all_events.corr()[['Subscription Premium Cancel']].sort_values('Subscription Premium Cancel'), 3)\n",
    "    return all_events"
   ],
   "execution_count": 49,
   "outputs": [],
   "metadata": {
    "datalore": {
     "node_id": "sx3sTpxHQHQOZT6toNozfu",
     "type": "CODE",
     "hide_input_from_viewers": true,
     "hide_output_from_viewers": true
    }
   }
  },
  {
   "cell_type": "markdown",
   "source": [
    "### Отримання кореляції подій користувача з відміною підписки.\n",
    "Отримуємо кореляцію подій, перейменовуємо колонки, візуалізуємо кореляцію."
   ],
   "attachments": {},
   "metadata": {
    "datalore": {
     "node_id": "lMspgMM8Ris6d1cRCtR5Qj",
     "type": "MD",
     "hide_input_from_viewers": true,
     "hide_output_from_viewers": true
    }
   }
  },
  {
   "cell_type": "code",
   "source": [
    "corr_cancel = get_events_dataframe().rename(columns={'Subscription Premium Cancel':'Correlation'}).iloc[1:-1]\n",
    "corr_cancel"
   ],
   "execution_count": 50,
   "outputs": [
    {
     "data": {
      "text/html": [
       "<div>\n",
       "<style scoped>\n",
       "    .dataframe tbody tr th:only-of-type {\n",
       "        vertical-align: middle;\n",
       "    }\n",
       "\n",
       "    .dataframe tbody tr th {\n",
       "        vertical-align: top;\n",
       "    }\n",
       "\n",
       "    .dataframe thead th {\n",
       "        text-align: right;\n",
       "    }\n",
       "</style>\n",
       "<table border=\"1\" class=\"dataframe\">\n",
       "  <thead>\n",
       "    <tr style=\"text-align: right;\">\n",
       "      <th></th>\n",
       "      <th>Correlation</th>\n",
       "    </tr>\n",
       "  </thead>\n",
       "  <tbody>\n",
       "    <tr>\n",
       "      <th>Add Payment Method Success</th>\n",
       "      <td>-0.532</td>\n",
       "    </tr>\n",
       "    <tr>\n",
       "      <th>Sign Up Success</th>\n",
       "      <td>-0.467</td>\n",
       "    </tr>\n",
       "    <tr>\n",
       "      <th>Add Vehicle Success</th>\n",
       "      <td>-0.451</td>\n",
       "    </tr>\n",
       "    <tr>\n",
       "      <th>Email Confirmation Success</th>\n",
       "      <td>-0.171</td>\n",
       "    </tr>\n",
       "    <tr>\n",
       "      <th>Add Payment Method Failed</th>\n",
       "      <td>-0.096</td>\n",
       "    </tr>\n",
       "    <tr>\n",
       "      <th>Add Vehicle Break</th>\n",
       "      <td>-0.058</td>\n",
       "    </tr>\n",
       "    <tr>\n",
       "      <th>Account Setup Skip</th>\n",
       "      <td>-0.050</td>\n",
       "    </tr>\n",
       "    <tr>\n",
       "      <th>Sign Up Error</th>\n",
       "      <td>-0.014</td>\n",
       "    </tr>\n",
       "    <tr>\n",
       "      <th>Reset Password Set</th>\n",
       "      <td>-0.014</td>\n",
       "    </tr>\n",
       "    <tr>\n",
       "      <th>Calculator Used</th>\n",
       "      <td>0.030</td>\n",
       "    </tr>\n",
       "    <tr>\n",
       "      <th>Order</th>\n",
       "      <td>0.126</td>\n",
       "    </tr>\n",
       "    <tr>\n",
       "      <th>Sign Out</th>\n",
       "      <td>0.165</td>\n",
       "    </tr>\n",
       "    <tr>\n",
       "      <th>Calculator View</th>\n",
       "      <td>0.198</td>\n",
       "    </tr>\n",
       "    <tr>\n",
       "      <th>Transaction Refund</th>\n",
       "      <td>0.219</td>\n",
       "    </tr>\n",
       "    <tr>\n",
       "      <th>Account History Transaction Details</th>\n",
       "      <td>0.463</td>\n",
       "    </tr>\n",
       "    <tr>\n",
       "      <th>Wallet Opened</th>\n",
       "      <td>0.559</td>\n",
       "    </tr>\n",
       "    <tr>\n",
       "      <th>Chat Conversation Opened</th>\n",
       "      <td>0.731</td>\n",
       "    </tr>\n",
       "  </tbody>\n",
       "</table>\n",
       "</div>"
      ]
     },
     "metadata": {},
     "output_type": "display_data"
    }
   ],
   "metadata": {
    "datalore": {
     "node_id": "9uNlLcNunegM54r4FrtJtE",
     "type": "CODE",
     "hide_input_from_viewers": true,
     "hide_output_from_viewers": true
    }
   }
  },
  {
   "cell_type": "code",
   "source": [
    "corr_cancel.plot(kind='barh', figsize=(10, 6))\n",
    "plt.show()"
   ],
   "execution_count": 51,
   "outputs": [
    {
     "data": {
      "image/png": "[encoded data removed]"
     },
     "metadata": {
      "image/png": {}
     },
     "output_type": "display_data"
    }
   ],
   "metadata": {
    "datalore": {
     "node_id": "QP9WtD9RLwm7Tqob2FpRKw",
     "type": "CODE",
     "hide_input_from_viewers": true,
     "hide_output_from_viewers": true
    }
   }
  },
  {
   "cell_type": "markdown",
   "source": [
    "### Отримання кореляції атрибутів подій користувача з відміною підписки."
   ],
   "attachments": {},
   "metadata": {
    "datalore": {
     "node_id": "YMamy7rR80MYMCR0YYraMj",
     "type": "MD",
     "hide_input_from_viewers": true,
     "hide_output_from_viewers": true
    }
   }
  },
  {
   "cell_type": "code",
   "source": [
    "arr = np.setdiff1d(data['event_name'].unique(), ['Subscription Premium', 'Subscription Premium Cancel'])\n",
    "arr = arr[[len(get_event_attributes_dict(data, i))!=0 for i in arr]]\n",
    "ICD.display(pd.DataFrame(arr))\n",
    "\n",
    "for event_name in arr:\n",
    "    frame = get_attributes_dataframe(event_name).dropna().iloc[1:-1]\n",
    "    frame = frame.rename(columns={'Subscription Premium Cancel':'Correlation ' + event_name})\n",
    "    if frame.shape[0]>10:\n",
    "        ICD.display(frame.iloc[np.r_[:3, (frame.shape[0]-3):frame.shape[0]]])\n",
    "    elif frame.shape[0]:\n",
    "        ICD.display(frame)"
   ],
   "execution_count": 52,
   "outputs": [
    {
     "data": {
      "text/html": [
       "<div>\n",
       "<style scoped>\n",
       "    .dataframe tbody tr th:only-of-type {\n",
       "        vertical-align: middle;\n",
       "    }\n",
       "\n",
       "    .dataframe tbody tr th {\n",
       "        vertical-align: top;\n",
       "    }\n",
       "\n",
       "    .dataframe thead th {\n",
       "        text-align: right;\n",
       "    }\n",
       "</style>\n",
       "<table border=\"1\" class=\"dataframe\">\n",
       "  <thead>\n",
       "    <tr style=\"text-align: right;\">\n",
       "      <th></th>\n",
       "      <th>0</th>\n",
       "    </tr>\n",
       "  </thead>\n",
       "  <tbody>\n",
       "    <tr>\n",
       "      <th>0</th>\n",
       "      <td>Account History Transaction Details</td>\n",
       "    </tr>\n",
       "    <tr>\n",
       "      <th>1</th>\n",
       "      <td>Account Setup Skip</td>\n",
       "    </tr>\n",
       "    <tr>\n",
       "      <th>2</th>\n",
       "      <td>Add Payment Method Failed</td>\n",
       "    </tr>\n",
       "    <tr>\n",
       "      <th>3</th>\n",
       "      <td>Add Payment Method Success</td>\n",
       "    </tr>\n",
       "    <tr>\n",
       "      <th>4</th>\n",
       "      <td>Add Vehicle Break</td>\n",
       "    </tr>\n",
       "    <tr>\n",
       "      <th>5</th>\n",
       "      <td>Add Vehicle Success</td>\n",
       "    </tr>\n",
       "    <tr>\n",
       "      <th>6</th>\n",
       "      <td>Calculator Used</td>\n",
       "    </tr>\n",
       "    <tr>\n",
       "      <th>7</th>\n",
       "      <td>Chat Conversation Opened</td>\n",
       "    </tr>\n",
       "    <tr>\n",
       "      <th>8</th>\n",
       "      <td>Email Confirmation Success</td>\n",
       "    </tr>\n",
       "    <tr>\n",
       "      <th>9</th>\n",
       "      <td>Order</td>\n",
       "    </tr>\n",
       "    <tr>\n",
       "      <th>10</th>\n",
       "      <td>Sign Out</td>\n",
       "    </tr>\n",
       "    <tr>\n",
       "      <th>11</th>\n",
       "      <td>Sign Up Error</td>\n",
       "    </tr>\n",
       "    <tr>\n",
       "      <th>12</th>\n",
       "      <td>Sign Up Success</td>\n",
       "    </tr>\n",
       "    <tr>\n",
       "      <th>13</th>\n",
       "      <td>Transaction Refund</td>\n",
       "    </tr>\n",
       "  </tbody>\n",
       "</table>\n",
       "</div>"
      ]
     },
     "metadata": {},
     "output_type": "display_data"
    },
    {
     "data": {
      "text/html": [
       "<div>\n",
       "<style scoped>\n",
       "    .dataframe tbody tr th:only-of-type {\n",
       "        vertical-align: middle;\n",
       "    }\n",
       "\n",
       "    .dataframe tbody tr th {\n",
       "        vertical-align: top;\n",
       "    }\n",
       "\n",
       "    .dataframe thead th {\n",
       "        text-align: right;\n",
       "    }\n",
       "</style>\n",
       "<table border=\"1\" class=\"dataframe\">\n",
       "  <thead>\n",
       "    <tr style=\"text-align: right;\">\n",
       "      <th></th>\n",
       "      <th>Correlation Account History Transaction Details</th>\n",
       "    </tr>\n",
       "  </thead>\n",
       "  <tbody>\n",
       "    <tr>\n",
       "      <th>Overdue</th>\n",
       "      <td>0.042</td>\n",
       "    </tr>\n",
       "    <tr>\n",
       "      <th>Violation Transaction</th>\n",
       "      <td>0.042</td>\n",
       "    </tr>\n",
       "    <tr>\n",
       "      <th>Manual Payment</th>\n",
       "      <td>0.060</td>\n",
       "    </tr>\n",
       "    <tr>\n",
       "      <th>Forced Payment</th>\n",
       "      <td>0.085</td>\n",
       "    </tr>\n",
       "    <tr>\n",
       "      <th>Order</th>\n",
       "      <td>0.144</td>\n",
       "    </tr>\n",
       "    <tr>\n",
       "      <th>Pro Plan Subscription</th>\n",
       "      <td>0.177</td>\n",
       "    </tr>\n",
       "    <tr>\n",
       "      <th>Pending</th>\n",
       "      <td>0.234</td>\n",
       "    </tr>\n",
       "    <tr>\n",
       "      <th>Paid</th>\n",
       "      <td>0.238</td>\n",
       "    </tr>\n",
       "    <tr>\n",
       "      <th>Auto Payment</th>\n",
       "      <td>0.322</td>\n",
       "    </tr>\n",
       "    <tr>\n",
       "      <th>Account History</th>\n",
       "      <td>0.818</td>\n",
       "    </tr>\n",
       "  </tbody>\n",
       "</table>\n",
       "</div>"
      ]
     },
     "metadata": {},
     "output_type": "display_data"
    },
    {
     "data": {
      "text/html": [
       "<div>\n",
       "<style scoped>\n",
       "    .dataframe tbody tr th:only-of-type {\n",
       "        vertical-align: middle;\n",
       "    }\n",
       "\n",
       "    .dataframe tbody tr th {\n",
       "        vertical-align: top;\n",
       "    }\n",
       "\n",
       "    .dataframe thead th {\n",
       "        text-align: right;\n",
       "    }\n",
       "</style>\n",
       "<table border=\"1\" class=\"dataframe\">\n",
       "  <thead>\n",
       "    <tr style=\"text-align: right;\">\n",
       "      <th></th>\n",
       "      <th>Correlation Account Setup Skip</th>\n",
       "    </tr>\n",
       "  </thead>\n",
       "  <tbody>\n",
       "    <tr>\n",
       "      <th>Address</th>\n",
       "      <td>-0.004</td>\n",
       "    </tr>\n",
       "    <tr>\n",
       "      <th>Phone Number</th>\n",
       "      <td>0.061</td>\n",
       "    </tr>\n",
       "    <tr>\n",
       "      <th>Name</th>\n",
       "      <td>0.254</td>\n",
       "    </tr>\n",
       "    <tr>\n",
       "      <th>Address Details</th>\n",
       "      <td>0.365</td>\n",
       "    </tr>\n",
       "  </tbody>\n",
       "</table>\n",
       "</div>"
      ]
     },
     "metadata": {},
     "output_type": "display_data"
    },
    {
     "data": {
      "text/html": [
       "<div>\n",
       "<style scoped>\n",
       "    .dataframe tbody tr th:only-of-type {\n",
       "        vertical-align: middle;\n",
       "    }\n",
       "\n",
       "    .dataframe tbody tr th {\n",
       "        vertical-align: top;\n",
       "    }\n",
       "\n",
       "    .dataframe thead th {\n",
       "        text-align: right;\n",
       "    }\n",
       "</style>\n",
       "<table border=\"1\" class=\"dataframe\">\n",
       "  <thead>\n",
       "    <tr style=\"text-align: right;\">\n",
       "      <th></th>\n",
       "      <th>Correlation Add Payment Method Failed</th>\n",
       "    </tr>\n",
       "  </thead>\n",
       "  <tbody>\n",
       "    <tr>\n",
       "      <th>Credit Card</th>\n",
       "      <td>-0.148</td>\n",
       "    </tr>\n",
       "    <tr>\n",
       "      <th></th>\n",
       "      <td>-0.055</td>\n",
       "    </tr>\n",
       "    <tr>\n",
       "      <th>ERROR-NaN10</th>\n",
       "      <td>-0.040</td>\n",
       "    </tr>\n",
       "    <tr>\n",
       "      <th>Apple Pay</th>\n",
       "      <td>-0.037</td>\n",
       "    </tr>\n",
       "    <tr>\n",
       "      <th>Payment method failed verification.</th>\n",
       "      <td>-0.034</td>\n",
       "    </tr>\n",
       "    <tr>\n",
       "      <th>CVV must be 4 digits for American Express and 3 digits for other card types.</th>\n",
       "      <td>-0.017</td>\n",
       "    </tr>\n",
       "    <tr>\n",
       "      <th>Postal code can only contain letters, numbers, spaces, and hyphens.</th>\n",
       "      <td>-0.010</td>\n",
       "    </tr>\n",
       "    <tr>\n",
       "      <th>Card is debit but credit is required.</th>\n",
       "      <td>0.078</td>\n",
       "    </tr>\n",
       "    <tr>\n",
       "      <th>ERROR-16010</th>\n",
       "      <td>0.078</td>\n",
       "    </tr>\n",
       "    <tr>\n",
       "      <th>Google Pay</th>\n",
       "      <td>0.398</td>\n",
       "    </tr>\n",
       "  </tbody>\n",
       "</table>\n",
       "</div>"
      ]
     },
     "metadata": {},
     "output_type": "display_data"
    },
    {
     "data": {
      "text/html": [
       "<div>\n",
       "<style scoped>\n",
       "    .dataframe tbody tr th:only-of-type {\n",
       "        vertical-align: middle;\n",
       "    }\n",
       "\n",
       "    .dataframe tbody tr th {\n",
       "        vertical-align: top;\n",
       "    }\n",
       "\n",
       "    .dataframe thead th {\n",
       "        text-align: right;\n",
       "    }\n",
       "</style>\n",
       "<table border=\"1\" class=\"dataframe\">\n",
       "  <thead>\n",
       "    <tr style=\"text-align: right;\">\n",
       "      <th></th>\n",
       "      <th>Correlation Add Payment Method Success</th>\n",
       "    </tr>\n",
       "  </thead>\n",
       "  <tbody>\n",
       "    <tr>\n",
       "      <th>Apple Pay</th>\n",
       "      <td>-0.038</td>\n",
       "    </tr>\n",
       "    <tr>\n",
       "      <th>PayPal</th>\n",
       "      <td>-0.036</td>\n",
       "    </tr>\n",
       "    <tr>\n",
       "      <th>Credit</th>\n",
       "      <td>-0.025</td>\n",
       "    </tr>\n",
       "    <tr>\n",
       "      <th></th>\n",
       "      <td>0.036</td>\n",
       "    </tr>\n",
       "    <tr>\n",
       "      <th>Debit</th>\n",
       "      <td>0.059</td>\n",
       "    </tr>\n",
       "    <tr>\n",
       "      <th>Google Pay</th>\n",
       "      <td>0.088</td>\n",
       "    </tr>\n",
       "  </tbody>\n",
       "</table>\n",
       "</div>"
      ]
     },
     "metadata": {},
     "output_type": "display_data"
    },
    {
     "data": {
      "text/html": [
       "<div>\n",
       "<style scoped>\n",
       "    .dataframe tbody tr th:only-of-type {\n",
       "        vertical-align: middle;\n",
       "    }\n",
       "\n",
       "    .dataframe tbody tr th {\n",
       "        vertical-align: top;\n",
       "    }\n",
       "\n",
       "    .dataframe thead th {\n",
       "        text-align: right;\n",
       "    }\n",
       "</style>\n",
       "<table border=\"1\" class=\"dataframe\">\n",
       "  <thead>\n",
       "    <tr style=\"text-align: right;\">\n",
       "      <th></th>\n",
       "      <th>Correlation Add Vehicle Break</th>\n",
       "    </tr>\n",
       "  </thead>\n",
       "  <tbody>\n",
       "    <tr>\n",
       "      <th>ERROR-NaN10</th>\n",
       "      <td>-0.05</td>\n",
       "    </tr>\n",
       "    <tr>\n",
       "      <th>The operation couldn’t be completed. (Company.ErrorResponse error 0.)</th>\n",
       "      <td>-0.05</td>\n",
       "    </tr>\n",
       "  </tbody>\n",
       "</table>\n",
       "</div>"
      ]
     },
     "metadata": {},
     "output_type": "display_data"
    },
    {
     "data": {
      "text/html": [
       "<div>\n",
       "<style scoped>\n",
       "    .dataframe tbody tr th:only-of-type {\n",
       "        vertical-align: middle;\n",
       "    }\n",
       "\n",
       "    .dataframe tbody tr th {\n",
       "        vertical-align: top;\n",
       "    }\n",
       "\n",
       "    .dataframe thead th {\n",
       "        text-align: right;\n",
       "    }\n",
       "</style>\n",
       "<table border=\"1\" class=\"dataframe\">\n",
       "  <thead>\n",
       "    <tr style=\"text-align: right;\">\n",
       "      <th></th>\n",
       "      <th>Correlation Add Vehicle Success</th>\n",
       "    </tr>\n",
       "  </thead>\n",
       "  <tbody>\n",
       "    <tr>\n",
       "      <th>White</th>\n",
       "      <td>-0.043</td>\n",
       "    </tr>\n",
       "    <tr>\n",
       "      <th>Silver</th>\n",
       "      <td>-0.036</td>\n",
       "    </tr>\n",
       "    <tr>\n",
       "      <th>Toyota</th>\n",
       "      <td>-0.035</td>\n",
       "    </tr>\n",
       "    <tr>\n",
       "      <th>Scion</th>\n",
       "      <td>0.351</td>\n",
       "    </tr>\n",
       "    <tr>\n",
       "      <th>xB</th>\n",
       "      <td>0.499</td>\n",
       "    </tr>\n",
       "    <tr>\n",
       "      <th>Excursion</th>\n",
       "      <td>0.499</td>\n",
       "    </tr>\n",
       "  </tbody>\n",
       "</table>\n",
       "</div>"
      ]
     },
     "metadata": {},
     "output_type": "display_data"
    },
    {
     "data": {
      "text/html": [
       "<div>\n",
       "<style scoped>\n",
       "    .dataframe tbody tr th:only-of-type {\n",
       "        vertical-align: middle;\n",
       "    }\n",
       "\n",
       "    .dataframe tbody tr th {\n",
       "        vertical-align: top;\n",
       "    }\n",
       "\n",
       "    .dataframe thead th {\n",
       "        text-align: right;\n",
       "    }\n",
       "</style>\n",
       "<table border=\"1\" class=\"dataframe\">\n",
       "  <thead>\n",
       "    <tr style=\"text-align: right;\">\n",
       "      <th></th>\n",
       "      <th>Correlation Calculator Used</th>\n",
       "    </tr>\n",
       "  </thead>\n",
       "  <tbody>\n",
       "    <tr>\n",
       "      <th>false</th>\n",
       "      <td>1.0</td>\n",
       "    </tr>\n",
       "    <tr>\n",
       "      <th>One</th>\n",
       "      <td>1.0</td>\n",
       "    </tr>\n",
       "  </tbody>\n",
       "</table>\n",
       "</div>"
      ]
     },
     "metadata": {},
     "output_type": "display_data"
    },
    {
     "data": {
      "text/html": [
       "<div>\n",
       "<style scoped>\n",
       "    .dataframe tbody tr th:only-of-type {\n",
       "        vertical-align: middle;\n",
       "    }\n",
       "\n",
       "    .dataframe tbody tr th {\n",
       "        vertical-align: top;\n",
       "    }\n",
       "\n",
       "    .dataframe thead th {\n",
       "        text-align: right;\n",
       "    }\n",
       "</style>\n",
       "<table border=\"1\" class=\"dataframe\">\n",
       "  <thead>\n",
       "    <tr style=\"text-align: right;\">\n",
       "      <th></th>\n",
       "      <th>Correlation Chat Conversation Opened</th>\n",
       "    </tr>\n",
       "  </thead>\n",
       "  <tbody>\n",
       "    <tr>\n",
       "      <th>Dashboard</th>\n",
       "      <td>-0.128</td>\n",
       "    </tr>\n",
       "    <tr>\n",
       "      <th></th>\n",
       "      <td>-0.089</td>\n",
       "    </tr>\n",
       "    <tr>\n",
       "      <th>OrderAlert</th>\n",
       "      <td>0.024</td>\n",
       "    </tr>\n",
       "    <tr>\n",
       "      <th>Deeplink</th>\n",
       "      <td>0.031</td>\n",
       "    </tr>\n",
       "    <tr>\n",
       "      <th>Pro Plan Subscription</th>\n",
       "      <td>0.045</td>\n",
       "    </tr>\n",
       "    <tr>\n",
       "      <th>AutoPayment</th>\n",
       "      <td>0.051</td>\n",
       "    </tr>\n",
       "    <tr>\n",
       "      <th>Transaction Details</th>\n",
       "      <td>0.073</td>\n",
       "    </tr>\n",
       "    <tr>\n",
       "      <th>Menu</th>\n",
       "      <td>0.093</td>\n",
       "    </tr>\n",
       "  </tbody>\n",
       "</table>\n",
       "</div>"
      ]
     },
     "metadata": {},
     "output_type": "display_data"
    },
    {
     "data": {
      "text/html": [
       "<div>\n",
       "<style scoped>\n",
       "    .dataframe tbody tr th:only-of-type {\n",
       "        vertical-align: middle;\n",
       "    }\n",
       "\n",
       "    .dataframe tbody tr th {\n",
       "        vertical-align: top;\n",
       "    }\n",
       "\n",
       "    .dataframe thead th {\n",
       "        text-align: right;\n",
       "    }\n",
       "</style>\n",
       "<table border=\"1\" class=\"dataframe\">\n",
       "  <thead>\n",
       "    <tr style=\"text-align: right;\">\n",
       "      <th></th>\n",
       "      <th>Correlation Email Confirmation Success</th>\n",
       "    </tr>\n",
       "  </thead>\n",
       "  <tbody>\n",
       "    <tr>\n",
       "      <th>true</th>\n",
       "      <td>-0.07</td>\n",
       "    </tr>\n",
       "  </tbody>\n",
       "</table>\n",
       "</div>"
      ]
     },
     "metadata": {},
     "output_type": "display_data"
    },
    {
     "data": {
      "text/html": [
       "<div>\n",
       "<style scoped>\n",
       "    .dataframe tbody tr th:only-of-type {\n",
       "        vertical-align: middle;\n",
       "    }\n",
       "\n",
       "    .dataframe tbody tr th {\n",
       "        vertical-align: top;\n",
       "    }\n",
       "\n",
       "    .dataframe thead th {\n",
       "        text-align: right;\n",
       "    }\n",
       "</style>\n",
       "<table border=\"1\" class=\"dataframe\">\n",
       "  <thead>\n",
       "    <tr style=\"text-align: right;\">\n",
       "      <th></th>\n",
       "      <th>Correlation Order</th>\n",
       "    </tr>\n",
       "  </thead>\n",
       "  <tbody>\n",
       "    <tr>\n",
       "      <th>True</th>\n",
       "      <td>1.0</td>\n",
       "    </tr>\n",
       "  </tbody>\n",
       "</table>\n",
       "</div>"
      ]
     },
     "metadata": {},
     "output_type": "display_data"
    },
    {
     "data": {
      "text/html": [
       "<div>\n",
       "<style scoped>\n",
       "    .dataframe tbody tr th:only-of-type {\n",
       "        vertical-align: middle;\n",
       "    }\n",
       "\n",
       "    .dataframe tbody tr th {\n",
       "        vertical-align: top;\n",
       "    }\n",
       "\n",
       "    .dataframe thead th {\n",
       "        text-align: right;\n",
       "    }\n",
       "</style>\n",
       "<table border=\"1\" class=\"dataframe\">\n",
       "  <thead>\n",
       "    <tr style=\"text-align: right;\">\n",
       "      <th></th>\n",
       "      <th>Correlation Sign Out</th>\n",
       "    </tr>\n",
       "  </thead>\n",
       "  <tbody>\n",
       "    <tr>\n",
       "      <th>Manual</th>\n",
       "      <td>0.886</td>\n",
       "    </tr>\n",
       "  </tbody>\n",
       "</table>\n",
       "</div>"
      ]
     },
     "metadata": {},
     "output_type": "display_data"
    },
    {
     "data": {
      "text/html": [
       "<div>\n",
       "<style scoped>\n",
       "    .dataframe tbody tr th:only-of-type {\n",
       "        vertical-align: middle;\n",
       "    }\n",
       "\n",
       "    .dataframe tbody tr th {\n",
       "        vertical-align: top;\n",
       "    }\n",
       "\n",
       "    .dataframe thead th {\n",
       "        text-align: right;\n",
       "    }\n",
       "</style>\n",
       "<table border=\"1\" class=\"dataframe\">\n",
       "  <thead>\n",
       "    <tr style=\"text-align: right;\">\n",
       "      <th></th>\n",
       "      <th>Correlation Transaction Refund</th>\n",
       "    </tr>\n",
       "  </thead>\n",
       "  <tbody>\n",
       "    <tr>\n",
       "      <th>2d795a386ea1e02252e543886b812a9b</th>\n",
       "      <td>0.208</td>\n",
       "    </tr>\n",
       "    <tr>\n",
       "      <th>cbf30aa0674eb25b54c37bed044f220b</th>\n",
       "      <td>0.208</td>\n",
       "    </tr>\n",
       "  </tbody>\n",
       "</table>\n",
       "</div>"
      ]
     },
     "metadata": {},
     "output_type": "display_data"
    }
   ],
   "metadata": {
    "datalore": {
     "node_id": "dtG4jMksgI7G4YB4Gl3uRD",
     "type": "CODE",
     "hide_input_from_viewers": true,
     "hide_output_from_viewers": true
    }
   }
  },
  {
   "cell_type": "markdown",
   "source": [
    "### Отримання кореляції атрибутів користувача, таких як штат та дії.\n",
    "\n",
    "Отримаємо дані з кожної колонки, опускаючи порожні значення.  "
   ],
   "attachments": {},
   "metadata": {
    "datalore": {
     "node_id": "jzgJj3I5MMAnyyiiSmHWwq",
     "type": "MD",
     "hide_input_from_viewers": true,
     "hide_output_from_viewers": true
    }
   }
  },
  {
   "cell_type": "code",
   "source": [
    "for col in ['user_state', 'event_name', 'event_platform', 'device_manufacture']:\n",
    "    frame = get_events_dataframe(col).dropna().iloc[1:-1]\n",
    "    frame = frame.rename(columns={'Subscription Premium Cancel':'Correlation ' + col})\n",
    "    if frame.shape[0]>10:\n",
    "        ICD.display(frame.iloc[np.r_[:3, (frame.shape[0]-3):frame.shape[0]]])\n",
    "    elif frame.shape[0]:\n",
    "        ICD.display(frame)"
   ],
   "execution_count": 53,
   "outputs": [
    {
     "data": {
      "text/html": [
       "<div>\n",
       "<style scoped>\n",
       "    .dataframe tbody tr th:only-of-type {\n",
       "        vertical-align: middle;\n",
       "    }\n",
       "\n",
       "    .dataframe tbody tr th {\n",
       "        vertical-align: top;\n",
       "    }\n",
       "\n",
       "    .dataframe thead th {\n",
       "        text-align: right;\n",
       "    }\n",
       "</style>\n",
       "<table border=\"1\" class=\"dataframe\">\n",
       "  <thead>\n",
       "    <tr style=\"text-align: right;\">\n",
       "      <th></th>\n",
       "      <th>Correlation user_state</th>\n",
       "    </tr>\n",
       "  </thead>\n",
       "  <tbody>\n",
       "    <tr>\n",
       "      <th>NY</th>\n",
       "      <td>-0.037</td>\n",
       "    </tr>\n",
       "    <tr>\n",
       "      <th>WI</th>\n",
       "      <td>-0.024</td>\n",
       "    </tr>\n",
       "    <tr>\n",
       "      <th>CT</th>\n",
       "      <td>-0.024</td>\n",
       "    </tr>\n",
       "    <tr>\n",
       "      <th>IL</th>\n",
       "      <td>0.048</td>\n",
       "    </tr>\n",
       "    <tr>\n",
       "      <th>CA</th>\n",
       "      <td>0.060</td>\n",
       "    </tr>\n",
       "    <tr>\n",
       "      <th>FL</th>\n",
       "      <td>0.063</td>\n",
       "    </tr>\n",
       "  </tbody>\n",
       "</table>\n",
       "</div>"
      ]
     },
     "metadata": {},
     "output_type": "display_data"
    },
    {
     "data": {
      "text/html": [
       "<div>\n",
       "<style scoped>\n",
       "    .dataframe tbody tr th:only-of-type {\n",
       "        vertical-align: middle;\n",
       "    }\n",
       "\n",
       "    .dataframe tbody tr th {\n",
       "        vertical-align: top;\n",
       "    }\n",
       "\n",
       "    .dataframe thead th {\n",
       "        text-align: right;\n",
       "    }\n",
       "</style>\n",
       "<table border=\"1\" class=\"dataframe\">\n",
       "  <thead>\n",
       "    <tr style=\"text-align: right;\">\n",
       "      <th></th>\n",
       "      <th>Correlation event_name</th>\n",
       "    </tr>\n",
       "  </thead>\n",
       "  <tbody>\n",
       "    <tr>\n",
       "      <th>Add Payment Method Success</th>\n",
       "      <td>-0.532</td>\n",
       "    </tr>\n",
       "    <tr>\n",
       "      <th>Sign Up Success</th>\n",
       "      <td>-0.467</td>\n",
       "    </tr>\n",
       "    <tr>\n",
       "      <th>Add Vehicle Success</th>\n",
       "      <td>-0.451</td>\n",
       "    </tr>\n",
       "    <tr>\n",
       "      <th>Account History Transaction Details</th>\n",
       "      <td>0.463</td>\n",
       "    </tr>\n",
       "    <tr>\n",
       "      <th>Wallet Opened</th>\n",
       "      <td>0.559</td>\n",
       "    </tr>\n",
       "    <tr>\n",
       "      <th>Chat Conversation Opened</th>\n",
       "      <td>0.731</td>\n",
       "    </tr>\n",
       "  </tbody>\n",
       "</table>\n",
       "</div>"
      ]
     },
     "metadata": {},
     "output_type": "display_data"
    },
    {
     "data": {
      "text/html": [
       "<div>\n",
       "<style scoped>\n",
       "    .dataframe tbody tr th:only-of-type {\n",
       "        vertical-align: middle;\n",
       "    }\n",
       "\n",
       "    .dataframe tbody tr th {\n",
       "        vertical-align: top;\n",
       "    }\n",
       "\n",
       "    .dataframe thead th {\n",
       "        text-align: right;\n",
       "    }\n",
       "</style>\n",
       "<table border=\"1\" class=\"dataframe\">\n",
       "  <thead>\n",
       "    <tr style=\"text-align: right;\">\n",
       "      <th></th>\n",
       "      <th>Correlation event_platform</th>\n",
       "    </tr>\n",
       "  </thead>\n",
       "  <tbody>\n",
       "    <tr>\n",
       "      <th>android</th>\n",
       "      <td>0.060</td>\n",
       "    </tr>\n",
       "    <tr>\n",
       "      <th>ios</th>\n",
       "      <td>0.065</td>\n",
       "    </tr>\n",
       "    <tr>\n",
       "      <th>outofband</th>\n",
       "      <td>0.254</td>\n",
       "    </tr>\n",
       "  </tbody>\n",
       "</table>\n",
       "</div>"
      ]
     },
     "metadata": {},
     "output_type": "display_data"
    },
    {
     "data": {
      "text/html": [
       "<div>\n",
       "<style scoped>\n",
       "    .dataframe tbody tr th:only-of-type {\n",
       "        vertical-align: middle;\n",
       "    }\n",
       "\n",
       "    .dataframe tbody tr th {\n",
       "        vertical-align: top;\n",
       "    }\n",
       "\n",
       "    .dataframe thead th {\n",
       "        text-align: right;\n",
       "    }\n",
       "</style>\n",
       "<table border=\"1\" class=\"dataframe\">\n",
       "  <thead>\n",
       "    <tr style=\"text-align: right;\">\n",
       "      <th></th>\n",
       "      <th>Correlation device_manufacture</th>\n",
       "    </tr>\n",
       "  </thead>\n",
       "  <tbody>\n",
       "    <tr>\n",
       "      <th>Wingtech</th>\n",
       "      <td>-0.028</td>\n",
       "    </tr>\n",
       "    <tr>\n",
       "      <th>TCL</th>\n",
       "      <td>-0.028</td>\n",
       "    </tr>\n",
       "    <tr>\n",
       "      <th>motorola</th>\n",
       "      <td>-0.022</td>\n",
       "    </tr>\n",
       "    <tr>\n",
       "      <th>Apple</th>\n",
       "      <td>0.065</td>\n",
       "    </tr>\n",
       "    <tr>\n",
       "      <th>samsung</th>\n",
       "      <td>0.069</td>\n",
       "    </tr>\n",
       "    <tr>\n",
       "      <th>NaN</th>\n",
       "      <td>0.254</td>\n",
       "    </tr>\n",
       "  </tbody>\n",
       "</table>\n",
       "</div>"
      ]
     },
     "metadata": {},
     "output_type": "display_data"
    }
   ],
   "metadata": {
    "datalore": {
     "node_id": "UwkRklZwesKgzRygsXGiC9",
     "type": "CODE",
     "hide_input_from_viewers": true,
     "hide_output_from_viewers": true
    }
   }
  }
 ],
 "metadata": {
  "kernelspec": {
   "display_name": "Python",
   "language": "python",
   "name": "python"
  },
  "datalore": {
   "version": 1,
   "computation_mode": "JUPYTER",
   "package_manager": "pip",
   "base_environment": "default",
   "packages": []
  }
 },
 "nbformat": 4,
 "nbformat_minor": 4
}
